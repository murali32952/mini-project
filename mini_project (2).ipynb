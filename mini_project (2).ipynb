{
 "cells": [
  {
   "cell_type": "markdown",
   "id": "e0040115",
   "metadata": {},
   "source": [
    "# Importing the Libraries"
   ]
  },
  {
   "cell_type": "code",
   "execution_count": 1,
   "id": "5462402c",
   "metadata": {},
   "outputs": [],
   "source": [
    "import pandas as pd\n",
    "import numpy as np\n",
    "import matplotlib.pyplot as plt"
   ]
  },
  {
   "cell_type": "markdown",
   "id": "22d4ec6c",
   "metadata": {},
   "source": [
    "# Importing the datasets"
   ]
  },
  {
   "cell_type": "code",
   "execution_count": 2,
   "id": "eaa73f24",
   "metadata": {},
   "outputs": [
    {
     "data": {
      "text/html": [
       "<div>\n",
       "<style scoped>\n",
       "    .dataframe tbody tr th:only-of-type {\n",
       "        vertical-align: middle;\n",
       "    }\n",
       "\n",
       "    .dataframe tbody tr th {\n",
       "        vertical-align: top;\n",
       "    }\n",
       "\n",
       "    .dataframe thead th {\n",
       "        text-align: right;\n",
       "    }\n",
       "</style>\n",
       "<table border=\"1\" class=\"dataframe\">\n",
       "  <thead>\n",
       "    <tr style=\"text-align: right;\">\n",
       "      <th></th>\n",
       "      <th>Transaction_ID</th>\n",
       "      <th>Customer_ID</th>\n",
       "      <th>Name</th>\n",
       "      <th>Email</th>\n",
       "      <th>Phone</th>\n",
       "      <th>Address</th>\n",
       "      <th>City</th>\n",
       "      <th>State</th>\n",
       "      <th>Zipcode</th>\n",
       "      <th>Country</th>\n",
       "      <th>...</th>\n",
       "      <th>Total_Amount</th>\n",
       "      <th>Product_Category</th>\n",
       "      <th>Product_Brand</th>\n",
       "      <th>Product_Type</th>\n",
       "      <th>Feedback</th>\n",
       "      <th>Shipping_Method</th>\n",
       "      <th>Payment_Method</th>\n",
       "      <th>Order_Status</th>\n",
       "      <th>Ratings</th>\n",
       "      <th>products</th>\n",
       "    </tr>\n",
       "  </thead>\n",
       "  <tbody>\n",
       "    <tr>\n",
       "      <th>0</th>\n",
       "      <td>8691788.0</td>\n",
       "      <td>37249.0</td>\n",
       "      <td>Michelle Harrington</td>\n",
       "      <td>Ebony39@gmail.com</td>\n",
       "      <td>1.414787e+09</td>\n",
       "      <td>3959 Amanda Burgs</td>\n",
       "      <td>Dortmund</td>\n",
       "      <td>Berlin</td>\n",
       "      <td>77985.0</td>\n",
       "      <td>Germany</td>\n",
       "      <td>...</td>\n",
       "      <td>324.086270</td>\n",
       "      <td>Clothing</td>\n",
       "      <td>Nike</td>\n",
       "      <td>Shorts</td>\n",
       "      <td>Excellent</td>\n",
       "      <td>Same-Day</td>\n",
       "      <td>Debit Card</td>\n",
       "      <td>Shipped</td>\n",
       "      <td>5.0</td>\n",
       "      <td>Cycling shorts</td>\n",
       "    </tr>\n",
       "    <tr>\n",
       "      <th>1</th>\n",
       "      <td>2174773.0</td>\n",
       "      <td>69749.0</td>\n",
       "      <td>Kelsey Hill</td>\n",
       "      <td>Mark36@gmail.com</td>\n",
       "      <td>6.852900e+09</td>\n",
       "      <td>82072 Dawn Centers</td>\n",
       "      <td>Nottingham</td>\n",
       "      <td>England</td>\n",
       "      <td>99071.0</td>\n",
       "      <td>UK</td>\n",
       "      <td>...</td>\n",
       "      <td>806.707815</td>\n",
       "      <td>Electronics</td>\n",
       "      <td>Samsung</td>\n",
       "      <td>Tablet</td>\n",
       "      <td>Excellent</td>\n",
       "      <td>Standard</td>\n",
       "      <td>Credit Card</td>\n",
       "      <td>Processing</td>\n",
       "      <td>4.0</td>\n",
       "      <td>Lenovo Tab</td>\n",
       "    </tr>\n",
       "    <tr>\n",
       "      <th>2</th>\n",
       "      <td>6679610.0</td>\n",
       "      <td>30192.0</td>\n",
       "      <td>Scott Jensen</td>\n",
       "      <td>Shane85@gmail.com</td>\n",
       "      <td>8.362160e+09</td>\n",
       "      <td>4133 Young Canyon</td>\n",
       "      <td>Geelong</td>\n",
       "      <td>New South Wales</td>\n",
       "      <td>75929.0</td>\n",
       "      <td>Australia</td>\n",
       "      <td>...</td>\n",
       "      <td>1063.432799</td>\n",
       "      <td>Books</td>\n",
       "      <td>Penguin Books</td>\n",
       "      <td>Children's</td>\n",
       "      <td>Average</td>\n",
       "      <td>Same-Day</td>\n",
       "      <td>Credit Card</td>\n",
       "      <td>Processing</td>\n",
       "      <td>2.0</td>\n",
       "      <td>Sports equipment</td>\n",
       "    </tr>\n",
       "    <tr>\n",
       "      <th>3</th>\n",
       "      <td>7232460.0</td>\n",
       "      <td>62101.0</td>\n",
       "      <td>Joseph Miller</td>\n",
       "      <td>Mary34@gmail.com</td>\n",
       "      <td>2.776752e+09</td>\n",
       "      <td>8148 Thomas Creek Suite 100</td>\n",
       "      <td>Edmonton</td>\n",
       "      <td>Ontario</td>\n",
       "      <td>88420.0</td>\n",
       "      <td>Canada</td>\n",
       "      <td>...</td>\n",
       "      <td>2466.854021</td>\n",
       "      <td>Home Decor</td>\n",
       "      <td>Home Depot</td>\n",
       "      <td>Tools</td>\n",
       "      <td>Excellent</td>\n",
       "      <td>Standard</td>\n",
       "      <td>PayPal</td>\n",
       "      <td>Processing</td>\n",
       "      <td>4.0</td>\n",
       "      <td>Utility knife</td>\n",
       "    </tr>\n",
       "    <tr>\n",
       "      <th>4</th>\n",
       "      <td>4983775.0</td>\n",
       "      <td>27901.0</td>\n",
       "      <td>Debra Coleman</td>\n",
       "      <td>Charles30@gmail.com</td>\n",
       "      <td>9.098268e+09</td>\n",
       "      <td>5813 Lori Ports Suite 269</td>\n",
       "      <td>Bristol</td>\n",
       "      <td>England</td>\n",
       "      <td>48704.0</td>\n",
       "      <td>UK</td>\n",
       "      <td>...</td>\n",
       "      <td>248.553049</td>\n",
       "      <td>Grocery</td>\n",
       "      <td>Nestle</td>\n",
       "      <td>Chocolate</td>\n",
       "      <td>Bad</td>\n",
       "      <td>Standard</td>\n",
       "      <td>Cash</td>\n",
       "      <td>Shipped</td>\n",
       "      <td>1.0</td>\n",
       "      <td>Chocolate cookies</td>\n",
       "    </tr>\n",
       "    <tr>\n",
       "      <th>...</th>\n",
       "      <td>...</td>\n",
       "      <td>...</td>\n",
       "      <td>...</td>\n",
       "      <td>...</td>\n",
       "      <td>...</td>\n",
       "      <td>...</td>\n",
       "      <td>...</td>\n",
       "      <td>...</td>\n",
       "      <td>...</td>\n",
       "      <td>...</td>\n",
       "      <td>...</td>\n",
       "      <td>...</td>\n",
       "      <td>...</td>\n",
       "      <td>...</td>\n",
       "      <td>...</td>\n",
       "      <td>...</td>\n",
       "      <td>...</td>\n",
       "      <td>...</td>\n",
       "      <td>...</td>\n",
       "      <td>...</td>\n",
       "      <td>...</td>\n",
       "    </tr>\n",
       "    <tr>\n",
       "      <th>302005</th>\n",
       "      <td>4246475.0</td>\n",
       "      <td>12104.0</td>\n",
       "      <td>Meagan Ellis</td>\n",
       "      <td>Courtney60@gmail.com</td>\n",
       "      <td>7.466354e+09</td>\n",
       "      <td>389 Todd Path Apt. 159</td>\n",
       "      <td>Townsville</td>\n",
       "      <td>New South Wales</td>\n",
       "      <td>4567.0</td>\n",
       "      <td>Australia</td>\n",
       "      <td>...</td>\n",
       "      <td>973.962984</td>\n",
       "      <td>Books</td>\n",
       "      <td>Penguin Books</td>\n",
       "      <td>Fiction</td>\n",
       "      <td>Bad</td>\n",
       "      <td>Same-Day</td>\n",
       "      <td>Cash</td>\n",
       "      <td>Processing</td>\n",
       "      <td>1.0</td>\n",
       "      <td>Historical fiction</td>\n",
       "    </tr>\n",
       "    <tr>\n",
       "      <th>302006</th>\n",
       "      <td>1197603.0</td>\n",
       "      <td>69772.0</td>\n",
       "      <td>Mathew Beck</td>\n",
       "      <td>Jennifer71@gmail.com</td>\n",
       "      <td>5.754305e+09</td>\n",
       "      <td>52809 Mark Forges</td>\n",
       "      <td>Hanover</td>\n",
       "      <td>Berlin</td>\n",
       "      <td>16852.0</td>\n",
       "      <td>Germany</td>\n",
       "      <td>...</td>\n",
       "      <td>285.137301</td>\n",
       "      <td>Electronics</td>\n",
       "      <td>Apple</td>\n",
       "      <td>Laptop</td>\n",
       "      <td>Excellent</td>\n",
       "      <td>Same-Day</td>\n",
       "      <td>Cash</td>\n",
       "      <td>Processing</td>\n",
       "      <td>5.0</td>\n",
       "      <td>LG Gram</td>\n",
       "    </tr>\n",
       "    <tr>\n",
       "      <th>302007</th>\n",
       "      <td>7743242.0</td>\n",
       "      <td>28449.0</td>\n",
       "      <td>Daniel Lee</td>\n",
       "      <td>Christopher100@gmail.com</td>\n",
       "      <td>9.382530e+09</td>\n",
       "      <td>407 Aaron Crossing Suite 495</td>\n",
       "      <td>Brighton</td>\n",
       "      <td>England</td>\n",
       "      <td>88038.0</td>\n",
       "      <td>UK</td>\n",
       "      <td>...</td>\n",
       "      <td>182.105285</td>\n",
       "      <td>Clothing</td>\n",
       "      <td>Adidas</td>\n",
       "      <td>Jacket</td>\n",
       "      <td>Average</td>\n",
       "      <td>Express</td>\n",
       "      <td>Cash</td>\n",
       "      <td>Shipped</td>\n",
       "      <td>2.0</td>\n",
       "      <td>Parka</td>\n",
       "    </tr>\n",
       "    <tr>\n",
       "      <th>302008</th>\n",
       "      <td>9301950.0</td>\n",
       "      <td>45477.0</td>\n",
       "      <td>Patrick Wilson</td>\n",
       "      <td>Rebecca65@gmail.com</td>\n",
       "      <td>9.373222e+09</td>\n",
       "      <td>3204 Baird Port</td>\n",
       "      <td>Halifax</td>\n",
       "      <td>Ontario</td>\n",
       "      <td>67608.0</td>\n",
       "      <td>Canada</td>\n",
       "      <td>...</td>\n",
       "      <td>120.834784</td>\n",
       "      <td>Home Decor</td>\n",
       "      <td>IKEA</td>\n",
       "      <td>Furniture</td>\n",
       "      <td>Good</td>\n",
       "      <td>Standard</td>\n",
       "      <td>Cash</td>\n",
       "      <td>Shipped</td>\n",
       "      <td>4.0</td>\n",
       "      <td>TV stand</td>\n",
       "    </tr>\n",
       "    <tr>\n",
       "      <th>302009</th>\n",
       "      <td>2882826.0</td>\n",
       "      <td>53626.0</td>\n",
       "      <td>Dustin Merritt</td>\n",
       "      <td>William14@gmail.com</td>\n",
       "      <td>9.518927e+09</td>\n",
       "      <td>143 Amanda Crescent</td>\n",
       "      <td>Tucson</td>\n",
       "      <td>West Virginia</td>\n",
       "      <td>25242.0</td>\n",
       "      <td>USA</td>\n",
       "      <td>...</td>\n",
       "      <td>2382.233417</td>\n",
       "      <td>Home Decor</td>\n",
       "      <td>Home Depot</td>\n",
       "      <td>Decorations</td>\n",
       "      <td>Average</td>\n",
       "      <td>Same-Day</td>\n",
       "      <td>Cash</td>\n",
       "      <td>Shipped</td>\n",
       "      <td>2.0</td>\n",
       "      <td>Clocks</td>\n",
       "    </tr>\n",
       "  </tbody>\n",
       "</table>\n",
       "<p>302010 rows × 30 columns</p>\n",
       "</div>"
      ],
      "text/plain": [
       "        Transaction_ID  Customer_ID                 Name  \\\n",
       "0            8691788.0      37249.0  Michelle Harrington   \n",
       "1            2174773.0      69749.0          Kelsey Hill   \n",
       "2            6679610.0      30192.0         Scott Jensen   \n",
       "3            7232460.0      62101.0        Joseph Miller   \n",
       "4            4983775.0      27901.0        Debra Coleman   \n",
       "...                ...          ...                  ...   \n",
       "302005       4246475.0      12104.0         Meagan Ellis   \n",
       "302006       1197603.0      69772.0          Mathew Beck   \n",
       "302007       7743242.0      28449.0           Daniel Lee   \n",
       "302008       9301950.0      45477.0       Patrick Wilson   \n",
       "302009       2882826.0      53626.0       Dustin Merritt   \n",
       "\n",
       "                           Email         Phone                       Address  \\\n",
       "0              Ebony39@gmail.com  1.414787e+09             3959 Amanda Burgs   \n",
       "1               Mark36@gmail.com  6.852900e+09            82072 Dawn Centers   \n",
       "2              Shane85@gmail.com  8.362160e+09             4133 Young Canyon   \n",
       "3               Mary34@gmail.com  2.776752e+09   8148 Thomas Creek Suite 100   \n",
       "4            Charles30@gmail.com  9.098268e+09     5813 Lori Ports Suite 269   \n",
       "...                          ...           ...                           ...   \n",
       "302005      Courtney60@gmail.com  7.466354e+09        389 Todd Path Apt. 159   \n",
       "302006      Jennifer71@gmail.com  5.754305e+09             52809 Mark Forges   \n",
       "302007  Christopher100@gmail.com  9.382530e+09  407 Aaron Crossing Suite 495   \n",
       "302008       Rebecca65@gmail.com  9.373222e+09               3204 Baird Port   \n",
       "302009       William14@gmail.com  9.518927e+09           143 Amanda Crescent   \n",
       "\n",
       "              City            State  Zipcode    Country  ...  Total_Amount  \\\n",
       "0         Dortmund           Berlin  77985.0    Germany  ...    324.086270   \n",
       "1       Nottingham          England  99071.0         UK  ...    806.707815   \n",
       "2          Geelong  New South Wales  75929.0  Australia  ...   1063.432799   \n",
       "3         Edmonton          Ontario  88420.0     Canada  ...   2466.854021   \n",
       "4          Bristol          England  48704.0         UK  ...    248.553049   \n",
       "...            ...              ...      ...        ...  ...           ...   \n",
       "302005  Townsville  New South Wales   4567.0  Australia  ...    973.962984   \n",
       "302006     Hanover           Berlin  16852.0    Germany  ...    285.137301   \n",
       "302007    Brighton          England  88038.0         UK  ...    182.105285   \n",
       "302008     Halifax          Ontario  67608.0     Canada  ...    120.834784   \n",
       "302009      Tucson    West Virginia  25242.0        USA  ...   2382.233417   \n",
       "\n",
       "       Product_Category  Product_Brand Product_Type   Feedback  \\\n",
       "0              Clothing           Nike       Shorts  Excellent   \n",
       "1           Electronics        Samsung       Tablet  Excellent   \n",
       "2                 Books  Penguin Books   Children's    Average   \n",
       "3            Home Decor     Home Depot        Tools  Excellent   \n",
       "4               Grocery         Nestle    Chocolate        Bad   \n",
       "...                 ...            ...          ...        ...   \n",
       "302005            Books  Penguin Books      Fiction        Bad   \n",
       "302006      Electronics          Apple       Laptop  Excellent   \n",
       "302007         Clothing         Adidas       Jacket    Average   \n",
       "302008       Home Decor           IKEA    Furniture       Good   \n",
       "302009       Home Decor     Home Depot  Decorations    Average   \n",
       "\n",
       "        Shipping_Method Payment_Method Order_Status  Ratings  \\\n",
       "0              Same-Day     Debit Card      Shipped      5.0   \n",
       "1              Standard    Credit Card   Processing      4.0   \n",
       "2              Same-Day    Credit Card   Processing      2.0   \n",
       "3              Standard         PayPal   Processing      4.0   \n",
       "4              Standard           Cash      Shipped      1.0   \n",
       "...                 ...            ...          ...      ...   \n",
       "302005         Same-Day           Cash   Processing      1.0   \n",
       "302006         Same-Day           Cash   Processing      5.0   \n",
       "302007          Express           Cash      Shipped      2.0   \n",
       "302008         Standard           Cash      Shipped      4.0   \n",
       "302009         Same-Day           Cash      Shipped      2.0   \n",
       "\n",
       "                  products  \n",
       "0           Cycling shorts  \n",
       "1               Lenovo Tab  \n",
       "2         Sports equipment  \n",
       "3            Utility knife  \n",
       "4        Chocolate cookies  \n",
       "...                    ...  \n",
       "302005  Historical fiction  \n",
       "302006             LG Gram  \n",
       "302007               Parka  \n",
       "302008            TV stand  \n",
       "302009              Clocks  \n",
       "\n",
       "[302010 rows x 30 columns]"
      ]
     },
     "execution_count": 2,
     "metadata": {},
     "output_type": "execute_result"
    }
   ],
   "source": [
    "dataset=pd.read_csv(\"new_retail_data (1).csv\",parse_dates=['Date'])\n",
    "dataset"
   ]
  },
  {
   "cell_type": "markdown",
   "id": "daa074bd",
   "metadata": {},
   "source": [
    "# Some Extra Functions"
   ]
  },
  {
   "cell_type": "code",
   "execution_count": 3,
   "id": "15c3918b",
   "metadata": {},
   "outputs": [
    {
     "data": {
      "text/plain": [
       "(302010, 30)"
      ]
     },
     "execution_count": 3,
     "metadata": {},
     "output_type": "execute_result"
    }
   ],
   "source": [
    "dataset.shape"
   ]
  },
  {
   "cell_type": "code",
   "execution_count": 4,
   "id": "fd405ed6",
   "metadata": {},
   "outputs": [
    {
     "data": {
      "text/plain": [
       "Transaction_ID      333\n",
       "Customer_ID         308\n",
       "Name                382\n",
       "Email               347\n",
       "Phone               362\n",
       "Address             315\n",
       "City                248\n",
       "State               281\n",
       "Zipcode             340\n",
       "Country             271\n",
       "Age                 173\n",
       "Gender              317\n",
       "Income              290\n",
       "Customer_Segment    215\n",
       "Date                359\n",
       "Year                350\n",
       "Month               273\n",
       "Time                350\n",
       "Total_Purchases     361\n",
       "Amount              357\n",
       "Total_Amount        350\n",
       "Product_Category    283\n",
       "Product_Brand       281\n",
       "Product_Type          0\n",
       "Feedback            184\n",
       "Shipping_Method     337\n",
       "Payment_Method      297\n",
       "Order_Status        235\n",
       "Ratings             184\n",
       "products              0\n",
       "dtype: int64"
      ]
     },
     "execution_count": 4,
     "metadata": {},
     "output_type": "execute_result"
    }
   ],
   "source": [
    "dataset.isnull().sum()"
   ]
  },
  {
   "cell_type": "code",
   "execution_count": 5,
   "id": "e8c10ae6",
   "metadata": {},
   "outputs": [],
   "source": [
    "dropped_values=dataset.dropna()"
   ]
  },
  {
   "cell_type": "code",
   "execution_count": 6,
   "id": "53a85730",
   "metadata": {},
   "outputs": [
    {
     "data": {
      "text/plain": [
       "Transaction_ID      293911\n",
       "Customer_ID         293911\n",
       "Name                293911\n",
       "Email               293911\n",
       "Phone               293911\n",
       "Address             293911\n",
       "City                293911\n",
       "State               293911\n",
       "Zipcode             293911\n",
       "Country             293911\n",
       "Age                 293911\n",
       "Gender              293911\n",
       "Income              293911\n",
       "Customer_Segment    293911\n",
       "Date                293911\n",
       "Year                293911\n",
       "Month               293911\n",
       "Time                293911\n",
       "Total_Purchases     293911\n",
       "Amount              293911\n",
       "Total_Amount        293911\n",
       "Product_Category    293911\n",
       "Product_Brand       293911\n",
       "Product_Type        293911\n",
       "Feedback            293911\n",
       "Shipping_Method     293911\n",
       "Payment_Method      293911\n",
       "Order_Status        293911\n",
       "Ratings             293911\n",
       "products            293911\n",
       "dtype: int64"
      ]
     },
     "execution_count": 6,
     "metadata": {},
     "output_type": "execute_result"
    }
   ],
   "source": [
    "dropped_values.count()"
   ]
  },
  {
   "cell_type": "code",
   "execution_count": 7,
   "id": "257365cb",
   "metadata": {},
   "outputs": [
    {
     "data": {
      "text/plain": [
       "Transaction_ID      0\n",
       "Customer_ID         0\n",
       "Name                0\n",
       "Email               0\n",
       "Phone               0\n",
       "Address             0\n",
       "City                0\n",
       "State               0\n",
       "Zipcode             0\n",
       "Country             0\n",
       "Age                 0\n",
       "Gender              0\n",
       "Income              0\n",
       "Customer_Segment    0\n",
       "Date                0\n",
       "Year                0\n",
       "Month               0\n",
       "Time                0\n",
       "Total_Purchases     0\n",
       "Amount              0\n",
       "Total_Amount        0\n",
       "Product_Category    0\n",
       "Product_Brand       0\n",
       "Product_Type        0\n",
       "Feedback            0\n",
       "Shipping_Method     0\n",
       "Payment_Method      0\n",
       "Order_Status        0\n",
       "Ratings             0\n",
       "products            0\n",
       "dtype: int64"
      ]
     },
     "execution_count": 7,
     "metadata": {},
     "output_type": "execute_result"
    }
   ],
   "source": [
    "dropped_values.isnull().sum()"
   ]
  },
  {
   "cell_type": "code",
   "execution_count": 8,
   "id": "c1144f0a",
   "metadata": {},
   "outputs": [
    {
     "data": {
      "text/html": [
       "<div>\n",
       "<style scoped>\n",
       "    .dataframe tbody tr th:only-of-type {\n",
       "        vertical-align: middle;\n",
       "    }\n",
       "\n",
       "    .dataframe tbody tr th {\n",
       "        vertical-align: top;\n",
       "    }\n",
       "\n",
       "    .dataframe thead th {\n",
       "        text-align: right;\n",
       "    }\n",
       "</style>\n",
       "<table border=\"1\" class=\"dataframe\">\n",
       "  <thead>\n",
       "    <tr style=\"text-align: right;\">\n",
       "      <th></th>\n",
       "      <th>Transaction_ID</th>\n",
       "      <th>Customer_ID</th>\n",
       "      <th>Name</th>\n",
       "      <th>Email</th>\n",
       "      <th>Phone</th>\n",
       "      <th>Address</th>\n",
       "      <th>City</th>\n",
       "      <th>State</th>\n",
       "      <th>Zipcode</th>\n",
       "      <th>Country</th>\n",
       "      <th>...</th>\n",
       "      <th>Total_Amount</th>\n",
       "      <th>Product_Category</th>\n",
       "      <th>Product_Brand</th>\n",
       "      <th>Product_Type</th>\n",
       "      <th>Feedback</th>\n",
       "      <th>Shipping_Method</th>\n",
       "      <th>Payment_Method</th>\n",
       "      <th>Order_Status</th>\n",
       "      <th>Ratings</th>\n",
       "      <th>products</th>\n",
       "    </tr>\n",
       "  </thead>\n",
       "  <tbody>\n",
       "    <tr>\n",
       "      <th>0</th>\n",
       "      <td>8691788.0</td>\n",
       "      <td>37249.0</td>\n",
       "      <td>Michelle Harrington</td>\n",
       "      <td>Ebony39@gmail.com</td>\n",
       "      <td>1.414787e+09</td>\n",
       "      <td>3959 Amanda Burgs</td>\n",
       "      <td>Dortmund</td>\n",
       "      <td>Berlin</td>\n",
       "      <td>77985.0</td>\n",
       "      <td>Germany</td>\n",
       "      <td>...</td>\n",
       "      <td>324.086270</td>\n",
       "      <td>Clothing</td>\n",
       "      <td>Nike</td>\n",
       "      <td>Shorts</td>\n",
       "      <td>Excellent</td>\n",
       "      <td>Same-Day</td>\n",
       "      <td>Debit Card</td>\n",
       "      <td>Shipped</td>\n",
       "      <td>5.0</td>\n",
       "      <td>Cycling shorts</td>\n",
       "    </tr>\n",
       "    <tr>\n",
       "      <th>1</th>\n",
       "      <td>2174773.0</td>\n",
       "      <td>69749.0</td>\n",
       "      <td>Kelsey Hill</td>\n",
       "      <td>Mark36@gmail.com</td>\n",
       "      <td>6.852900e+09</td>\n",
       "      <td>82072 Dawn Centers</td>\n",
       "      <td>Nottingham</td>\n",
       "      <td>England</td>\n",
       "      <td>99071.0</td>\n",
       "      <td>UK</td>\n",
       "      <td>...</td>\n",
       "      <td>806.707815</td>\n",
       "      <td>Electronics</td>\n",
       "      <td>Samsung</td>\n",
       "      <td>Tablet</td>\n",
       "      <td>Excellent</td>\n",
       "      <td>Standard</td>\n",
       "      <td>Credit Card</td>\n",
       "      <td>Processing</td>\n",
       "      <td>4.0</td>\n",
       "      <td>Lenovo Tab</td>\n",
       "    </tr>\n",
       "    <tr>\n",
       "      <th>2</th>\n",
       "      <td>6679610.0</td>\n",
       "      <td>30192.0</td>\n",
       "      <td>Scott Jensen</td>\n",
       "      <td>Shane85@gmail.com</td>\n",
       "      <td>8.362160e+09</td>\n",
       "      <td>4133 Young Canyon</td>\n",
       "      <td>Geelong</td>\n",
       "      <td>New South Wales</td>\n",
       "      <td>75929.0</td>\n",
       "      <td>Australia</td>\n",
       "      <td>...</td>\n",
       "      <td>1063.432799</td>\n",
       "      <td>Books</td>\n",
       "      <td>Penguin Books</td>\n",
       "      <td>Children's</td>\n",
       "      <td>Average</td>\n",
       "      <td>Same-Day</td>\n",
       "      <td>Credit Card</td>\n",
       "      <td>Processing</td>\n",
       "      <td>2.0</td>\n",
       "      <td>Sports equipment</td>\n",
       "    </tr>\n",
       "    <tr>\n",
       "      <th>3</th>\n",
       "      <td>7232460.0</td>\n",
       "      <td>62101.0</td>\n",
       "      <td>Joseph Miller</td>\n",
       "      <td>Mary34@gmail.com</td>\n",
       "      <td>2.776752e+09</td>\n",
       "      <td>8148 Thomas Creek Suite 100</td>\n",
       "      <td>Edmonton</td>\n",
       "      <td>Ontario</td>\n",
       "      <td>88420.0</td>\n",
       "      <td>Canada</td>\n",
       "      <td>...</td>\n",
       "      <td>2466.854021</td>\n",
       "      <td>Home Decor</td>\n",
       "      <td>Home Depot</td>\n",
       "      <td>Tools</td>\n",
       "      <td>Excellent</td>\n",
       "      <td>Standard</td>\n",
       "      <td>PayPal</td>\n",
       "      <td>Processing</td>\n",
       "      <td>4.0</td>\n",
       "      <td>Utility knife</td>\n",
       "    </tr>\n",
       "    <tr>\n",
       "      <th>4</th>\n",
       "      <td>4983775.0</td>\n",
       "      <td>27901.0</td>\n",
       "      <td>Debra Coleman</td>\n",
       "      <td>Charles30@gmail.com</td>\n",
       "      <td>9.098268e+09</td>\n",
       "      <td>5813 Lori Ports Suite 269</td>\n",
       "      <td>Bristol</td>\n",
       "      <td>England</td>\n",
       "      <td>48704.0</td>\n",
       "      <td>UK</td>\n",
       "      <td>...</td>\n",
       "      <td>248.553049</td>\n",
       "      <td>Grocery</td>\n",
       "      <td>Nestle</td>\n",
       "      <td>Chocolate</td>\n",
       "      <td>Bad</td>\n",
       "      <td>Standard</td>\n",
       "      <td>Cash</td>\n",
       "      <td>Shipped</td>\n",
       "      <td>1.0</td>\n",
       "      <td>Chocolate cookies</td>\n",
       "    </tr>\n",
       "    <tr>\n",
       "      <th>...</th>\n",
       "      <td>...</td>\n",
       "      <td>...</td>\n",
       "      <td>...</td>\n",
       "      <td>...</td>\n",
       "      <td>...</td>\n",
       "      <td>...</td>\n",
       "      <td>...</td>\n",
       "      <td>...</td>\n",
       "      <td>...</td>\n",
       "      <td>...</td>\n",
       "      <td>...</td>\n",
       "      <td>...</td>\n",
       "      <td>...</td>\n",
       "      <td>...</td>\n",
       "      <td>...</td>\n",
       "      <td>...</td>\n",
       "      <td>...</td>\n",
       "      <td>...</td>\n",
       "      <td>...</td>\n",
       "      <td>...</td>\n",
       "      <td>...</td>\n",
       "    </tr>\n",
       "    <tr>\n",
       "      <th>302005</th>\n",
       "      <td>4246475.0</td>\n",
       "      <td>12104.0</td>\n",
       "      <td>Meagan Ellis</td>\n",
       "      <td>Courtney60@gmail.com</td>\n",
       "      <td>7.466354e+09</td>\n",
       "      <td>389 Todd Path Apt. 159</td>\n",
       "      <td>Townsville</td>\n",
       "      <td>New South Wales</td>\n",
       "      <td>4567.0</td>\n",
       "      <td>Australia</td>\n",
       "      <td>...</td>\n",
       "      <td>973.962984</td>\n",
       "      <td>Books</td>\n",
       "      <td>Penguin Books</td>\n",
       "      <td>Fiction</td>\n",
       "      <td>Bad</td>\n",
       "      <td>Same-Day</td>\n",
       "      <td>Cash</td>\n",
       "      <td>Processing</td>\n",
       "      <td>1.0</td>\n",
       "      <td>Historical fiction</td>\n",
       "    </tr>\n",
       "    <tr>\n",
       "      <th>302006</th>\n",
       "      <td>1197603.0</td>\n",
       "      <td>69772.0</td>\n",
       "      <td>Mathew Beck</td>\n",
       "      <td>Jennifer71@gmail.com</td>\n",
       "      <td>5.754305e+09</td>\n",
       "      <td>52809 Mark Forges</td>\n",
       "      <td>Hanover</td>\n",
       "      <td>Berlin</td>\n",
       "      <td>16852.0</td>\n",
       "      <td>Germany</td>\n",
       "      <td>...</td>\n",
       "      <td>285.137301</td>\n",
       "      <td>Electronics</td>\n",
       "      <td>Apple</td>\n",
       "      <td>Laptop</td>\n",
       "      <td>Excellent</td>\n",
       "      <td>Same-Day</td>\n",
       "      <td>Cash</td>\n",
       "      <td>Processing</td>\n",
       "      <td>5.0</td>\n",
       "      <td>LG Gram</td>\n",
       "    </tr>\n",
       "    <tr>\n",
       "      <th>302007</th>\n",
       "      <td>7743242.0</td>\n",
       "      <td>28449.0</td>\n",
       "      <td>Daniel Lee</td>\n",
       "      <td>Christopher100@gmail.com</td>\n",
       "      <td>9.382530e+09</td>\n",
       "      <td>407 Aaron Crossing Suite 495</td>\n",
       "      <td>Brighton</td>\n",
       "      <td>England</td>\n",
       "      <td>88038.0</td>\n",
       "      <td>UK</td>\n",
       "      <td>...</td>\n",
       "      <td>182.105285</td>\n",
       "      <td>Clothing</td>\n",
       "      <td>Adidas</td>\n",
       "      <td>Jacket</td>\n",
       "      <td>Average</td>\n",
       "      <td>Express</td>\n",
       "      <td>Cash</td>\n",
       "      <td>Shipped</td>\n",
       "      <td>2.0</td>\n",
       "      <td>Parka</td>\n",
       "    </tr>\n",
       "    <tr>\n",
       "      <th>302008</th>\n",
       "      <td>9301950.0</td>\n",
       "      <td>45477.0</td>\n",
       "      <td>Patrick Wilson</td>\n",
       "      <td>Rebecca65@gmail.com</td>\n",
       "      <td>9.373222e+09</td>\n",
       "      <td>3204 Baird Port</td>\n",
       "      <td>Halifax</td>\n",
       "      <td>Ontario</td>\n",
       "      <td>67608.0</td>\n",
       "      <td>Canada</td>\n",
       "      <td>...</td>\n",
       "      <td>120.834784</td>\n",
       "      <td>Home Decor</td>\n",
       "      <td>IKEA</td>\n",
       "      <td>Furniture</td>\n",
       "      <td>Good</td>\n",
       "      <td>Standard</td>\n",
       "      <td>Cash</td>\n",
       "      <td>Shipped</td>\n",
       "      <td>4.0</td>\n",
       "      <td>TV stand</td>\n",
       "    </tr>\n",
       "    <tr>\n",
       "      <th>302009</th>\n",
       "      <td>2882826.0</td>\n",
       "      <td>53626.0</td>\n",
       "      <td>Dustin Merritt</td>\n",
       "      <td>William14@gmail.com</td>\n",
       "      <td>9.518927e+09</td>\n",
       "      <td>143 Amanda Crescent</td>\n",
       "      <td>Tucson</td>\n",
       "      <td>West Virginia</td>\n",
       "      <td>25242.0</td>\n",
       "      <td>USA</td>\n",
       "      <td>...</td>\n",
       "      <td>2382.233417</td>\n",
       "      <td>Home Decor</td>\n",
       "      <td>Home Depot</td>\n",
       "      <td>Decorations</td>\n",
       "      <td>Average</td>\n",
       "      <td>Same-Day</td>\n",
       "      <td>Cash</td>\n",
       "      <td>Shipped</td>\n",
       "      <td>2.0</td>\n",
       "      <td>Clocks</td>\n",
       "    </tr>\n",
       "  </tbody>\n",
       "</table>\n",
       "<p>302010 rows × 30 columns</p>\n",
       "</div>"
      ],
      "text/plain": [
       "        Transaction_ID  Customer_ID                 Name  \\\n",
       "0            8691788.0      37249.0  Michelle Harrington   \n",
       "1            2174773.0      69749.0          Kelsey Hill   \n",
       "2            6679610.0      30192.0         Scott Jensen   \n",
       "3            7232460.0      62101.0        Joseph Miller   \n",
       "4            4983775.0      27901.0        Debra Coleman   \n",
       "...                ...          ...                  ...   \n",
       "302005       4246475.0      12104.0         Meagan Ellis   \n",
       "302006       1197603.0      69772.0          Mathew Beck   \n",
       "302007       7743242.0      28449.0           Daniel Lee   \n",
       "302008       9301950.0      45477.0       Patrick Wilson   \n",
       "302009       2882826.0      53626.0       Dustin Merritt   \n",
       "\n",
       "                           Email         Phone                       Address  \\\n",
       "0              Ebony39@gmail.com  1.414787e+09             3959 Amanda Burgs   \n",
       "1               Mark36@gmail.com  6.852900e+09            82072 Dawn Centers   \n",
       "2              Shane85@gmail.com  8.362160e+09             4133 Young Canyon   \n",
       "3               Mary34@gmail.com  2.776752e+09   8148 Thomas Creek Suite 100   \n",
       "4            Charles30@gmail.com  9.098268e+09     5813 Lori Ports Suite 269   \n",
       "...                          ...           ...                           ...   \n",
       "302005      Courtney60@gmail.com  7.466354e+09        389 Todd Path Apt. 159   \n",
       "302006      Jennifer71@gmail.com  5.754305e+09             52809 Mark Forges   \n",
       "302007  Christopher100@gmail.com  9.382530e+09  407 Aaron Crossing Suite 495   \n",
       "302008       Rebecca65@gmail.com  9.373222e+09               3204 Baird Port   \n",
       "302009       William14@gmail.com  9.518927e+09           143 Amanda Crescent   \n",
       "\n",
       "              City            State  Zipcode    Country  ...  Total_Amount  \\\n",
       "0         Dortmund           Berlin  77985.0    Germany  ...    324.086270   \n",
       "1       Nottingham          England  99071.0         UK  ...    806.707815   \n",
       "2          Geelong  New South Wales  75929.0  Australia  ...   1063.432799   \n",
       "3         Edmonton          Ontario  88420.0     Canada  ...   2466.854021   \n",
       "4          Bristol          England  48704.0         UK  ...    248.553049   \n",
       "...            ...              ...      ...        ...  ...           ...   \n",
       "302005  Townsville  New South Wales   4567.0  Australia  ...    973.962984   \n",
       "302006     Hanover           Berlin  16852.0    Germany  ...    285.137301   \n",
       "302007    Brighton          England  88038.0         UK  ...    182.105285   \n",
       "302008     Halifax          Ontario  67608.0     Canada  ...    120.834784   \n",
       "302009      Tucson    West Virginia  25242.0        USA  ...   2382.233417   \n",
       "\n",
       "       Product_Category  Product_Brand Product_Type   Feedback  \\\n",
       "0              Clothing           Nike       Shorts  Excellent   \n",
       "1           Electronics        Samsung       Tablet  Excellent   \n",
       "2                 Books  Penguin Books   Children's    Average   \n",
       "3            Home Decor     Home Depot        Tools  Excellent   \n",
       "4               Grocery         Nestle    Chocolate        Bad   \n",
       "...                 ...            ...          ...        ...   \n",
       "302005            Books  Penguin Books      Fiction        Bad   \n",
       "302006      Electronics          Apple       Laptop  Excellent   \n",
       "302007         Clothing         Adidas       Jacket    Average   \n",
       "302008       Home Decor           IKEA    Furniture       Good   \n",
       "302009       Home Decor     Home Depot  Decorations    Average   \n",
       "\n",
       "        Shipping_Method Payment_Method Order_Status  Ratings  \\\n",
       "0              Same-Day     Debit Card      Shipped      5.0   \n",
       "1              Standard    Credit Card   Processing      4.0   \n",
       "2              Same-Day    Credit Card   Processing      2.0   \n",
       "3              Standard         PayPal   Processing      4.0   \n",
       "4              Standard           Cash      Shipped      1.0   \n",
       "...                 ...            ...          ...      ...   \n",
       "302005         Same-Day           Cash   Processing      1.0   \n",
       "302006         Same-Day           Cash   Processing      5.0   \n",
       "302007          Express           Cash      Shipped      2.0   \n",
       "302008         Standard           Cash      Shipped      4.0   \n",
       "302009         Same-Day           Cash      Shipped      2.0   \n",
       "\n",
       "                  products  \n",
       "0           Cycling shorts  \n",
       "1               Lenovo Tab  \n",
       "2         Sports equipment  \n",
       "3            Utility knife  \n",
       "4        Chocolate cookies  \n",
       "...                    ...  \n",
       "302005  Historical fiction  \n",
       "302006             LG Gram  \n",
       "302007               Parka  \n",
       "302008            TV stand  \n",
       "302009              Clocks  \n",
       "\n",
       "[302010 rows x 30 columns]"
      ]
     },
     "execution_count": 8,
     "metadata": {},
     "output_type": "execute_result"
    }
   ],
   "source": [
    "dataset.fillna(0)"
   ]
  },
  {
   "cell_type": "markdown",
   "id": "d0991dda",
   "metadata": {},
   "source": [
    "# Seperating dependent and independent variables"
   ]
  },
  {
   "cell_type": "code",
   "execution_count": 9,
   "id": "53d4fae4",
   "metadata": {},
   "outputs": [],
   "source": [
    "x=dataset.iloc[:,:-1].values\n",
    "y=dataset.iloc[:,-1].values"
   ]
  },
  {
   "cell_type": "code",
   "execution_count": 10,
   "id": "42ea57a6",
   "metadata": {},
   "outputs": [
    {
     "data": {
      "text/plain": [
       "array([[8691788.0, 37249.0, 'Michelle Harrington', ..., 'Debit Card',\n",
       "        'Shipped', 5.0],\n",
       "       [2174773.0, 69749.0, 'Kelsey Hill', ..., 'Credit Card',\n",
       "        'Processing', 4.0],\n",
       "       [6679610.0, 30192.0, 'Scott Jensen', ..., 'Credit Card',\n",
       "        'Processing', 2.0],\n",
       "       ...,\n",
       "       [7743242.0, 28449.0, 'Daniel Lee', ..., 'Cash', 'Shipped', 2.0],\n",
       "       [9301950.0, 45477.0, 'Patrick Wilson', ..., 'Cash', 'Shipped',\n",
       "        4.0],\n",
       "       [2882826.0, 53626.0, 'Dustin Merritt', ..., 'Cash', 'Shipped',\n",
       "        2.0]], dtype=object)"
      ]
     },
     "execution_count": 10,
     "metadata": {},
     "output_type": "execute_result"
    }
   ],
   "source": [
    "x"
   ]
  },
  {
   "cell_type": "code",
   "execution_count": 11,
   "id": "a495c00f",
   "metadata": {},
   "outputs": [
    {
     "data": {
      "text/plain": [
       "array(['Cycling shorts', 'Lenovo Tab', 'Sports equipment', ..., 'Parka',\n",
       "       'TV stand', 'Clocks'], dtype=object)"
      ]
     },
     "execution_count": 11,
     "metadata": {},
     "output_type": "execute_result"
    }
   ],
   "source": [
    "y"
   ]
  },
  {
   "cell_type": "markdown",
   "id": "3fd02413",
   "metadata": {},
   "source": [
    "# Seperating each column"
   ]
  },
  {
   "cell_type": "code",
   "execution_count": 12,
   "id": "791f0969",
   "metadata": {},
   "outputs": [],
   "source": [
    "ag=dataset.iloc[:,0].values\n",
    "u=dataset.iloc[:,1].values\n",
    "a=dataset.iloc[:,2].values\n",
    "b=dataset.iloc[:,3].values\n",
    "v=dataset.iloc[:,4].values\n",
    "c=dataset.iloc[:,5].values\n",
    "d=dataset.iloc[:,6].values\n",
    "e=dataset.iloc[:,7].values\n",
    "w=dataset.iloc[:,8].values\n",
    "f=dataset.iloc[:,9].values\n",
    "z=dataset.iloc[:,10].values\n",
    "g=dataset.iloc[:,11].values\n",
    "h=dataset.iloc[:,12].values\n",
    "i=dataset.iloc[:,13].values\n",
    "j=dataset.iloc[:,14].values\n",
    "ab=dataset.iloc[:,15].values\n",
    "k=dataset.iloc[:,16].values\n",
    "l=dataset.iloc[:,17].values\n",
    "ac=dataset.iloc[:,18].values\n",
    "ad=dataset.iloc[:,19].values\n",
    "ae=dataset.iloc[:,20].values\n",
    "m=dataset.iloc[:,21].values\n",
    "n=dataset.iloc[:,22].values\n",
    "o=dataset.iloc[:,23].values\n",
    "p=dataset.iloc[:,24].values\n",
    "q=dataset.iloc[:,25].values\n",
    "r=dataset.iloc[:,26].values\n",
    "s=dataset.iloc[:,27].values\n",
    "af=dataset.iloc[:,28].values"
   ]
  },
  {
   "cell_type": "code",
   "execution_count": 14,
   "id": "79146be9",
   "metadata": {},
   "outputs": [
    {
     "name": "stdout",
     "output_type": "stream",
     "text": [
      "['Michelle Harrington' 'Kelsey Hill' 'Scott Jensen' ... 'Daniel Lee'\n",
      " 'Patrick Wilson' 'Dustin Merritt']\n"
     ]
    }
   ],
   "source": [
    "print(a)"
   ]
  },
  {
   "cell_type": "markdown",
   "id": "9440ec7b",
   "metadata": {},
   "source": [
    "# Encoding each variable"
   ]
  },
  {
   "cell_type": "code",
   "execution_count": 15,
   "id": "201c5033",
   "metadata": {},
   "outputs": [],
   "source": [
    "from sklearn.preprocessing import LabelEncoder\n",
    "le=LabelEncoder()\n",
    "y=le.fit_transform(y)\n",
    "ag=le.fit_transform(ag)\n",
    "u=le.fit_transform(u)\n",
    "a=le.fit_transform(a)\n",
    "b=le.fit_transform(b)\n",
    "v=le.fit_transform(v)\n",
    "c=le.fit_transform(c)\n",
    "d=le.fit_transform(d)\n",
    "e=le.fit_transform(e)\n",
    "w=le.fit_transform(w)\n",
    "f=le.fit_transform(f)\n",
    "z=le.fit_transform(z)\n",
    "g=le.fit_transform(g)\n",
    "h=le.fit_transform(h)\n",
    "i=le.fit_transform(i)\n",
    "j=le.fit_transform(j)\n",
    "ab=le.fit_transform(ab)\n",
    "k=le.fit_transform(k)\n",
    "l=le.fit_transform(l)\n",
    "ac=le.fit_transform(ac)\n",
    "ad=le.fit_transform(ad)\n",
    "ae=le.fit_transform(ae)\n",
    "m=le.fit_transform(m)\n",
    "n=le.fit_transform(n)\n",
    "o=le.fit_transform(o)\n",
    "p=le.fit_transform(p)\n",
    "q=le.fit_transform(q)\n",
    "r=le.fit_transform(r)\n",
    "s=le.fit_transform(s)\n",
    "af=le.fit_transform(af)\n"
   ]
  },
  {
   "cell_type": "code",
   "execution_count": 16,
   "id": "4d5cf34e",
   "metadata": {},
   "outputs": [
    {
     "name": "stdout",
     "output_type": "stream",
     "text": [
      "[109110  86175 135685 ...  37087 121115  47724]\n"
     ]
    }
   ],
   "source": [
    "print(a)"
   ]
  },
  {
   "cell_type": "markdown",
   "id": "d3d9e4e6",
   "metadata": {},
   "source": [
    "# Combining these encoded columns"
   ]
  },
  {
   "cell_type": "code",
   "execution_count": 17,
   "id": "9879a388",
   "metadata": {},
   "outputs": [
    {
     "data": {
      "text/plain": [
       "array([[251938,  26267, 109110, ...,      2,      3,      4],\n",
       "       [ 38363,  57607,  86175, ...,      1,      2,      3],\n",
       "       [186304,  19456, 135685, ...,      1,      2,      1],\n",
       "       ...,\n",
       "       [221012,  17779,  37087, ...,      0,      3,      1],\n",
       "       [271731,  34222, 121115, ...,      0,      3,      3],\n",
       "       [ 61541,  42041,  47724, ...,      0,      3,      1]], dtype=int64)"
      ]
     },
     "execution_count": 17,
     "metadata": {},
     "output_type": "execute_result"
    }
   ],
   "source": [
    "x=np.array([ag,u,a,b,v,c,d,e,w,f,z,g,h,i,j,ab,k,l,ac,ad,ae,m,n,o,p,q,r,s,af])\n",
    "X=x.transpose()\n",
    "X"
   ]
  },
  {
   "cell_type": "code",
   "execution_count": 18,
   "id": "44152c61",
   "metadata": {},
   "outputs": [
    {
     "data": {
      "text/plain": [
       "(302010, 29)"
      ]
     },
     "execution_count": 18,
     "metadata": {},
     "output_type": "execute_result"
    }
   ],
   "source": [
    "X.shape"
   ]
  },
  {
   "cell_type": "markdown",
   "id": "a9b934f1",
   "metadata": {},
   "source": [
    "# Splitting the dataset into the training and test set"
   ]
  },
  {
   "cell_type": "code",
   "execution_count": 19,
   "id": "400fbe60",
   "metadata": {},
   "outputs": [
    {
     "name": "stdout",
     "output_type": "stream",
     "text": [
      "[[186994  13414  15404 ...      2      3      1]\n",
      " [ 91698  73339 141117 ...      1      1      0]\n",
      " [145978  27851  38348 ...      1      0      0]\n",
      " ...\n",
      " [110543  63573  33039 ...      1      3      0]\n",
      " [257677  59309 115082 ...      0      0      3]\n",
      " [243068  15891  29326 ...      2      0      2]]\n"
     ]
    }
   ],
   "source": [
    "from sklearn.model_selection import train_test_split\n",
    "X_train,X_test,y_train,y_test=train_test_split(X,y,test_size=0.2,random_state=1)\n",
    "print(X_train)"
   ]
  },
  {
   "cell_type": "code",
   "execution_count": 20,
   "id": "9e62f3d0",
   "metadata": {},
   "outputs": [
    {
     "name": "stdout",
     "output_type": "stream",
     "text": [
      "[[ 91854  75448  81621 ...      0      0      2]\n",
      " [188788  68730 129049 ...      2      2      3]\n",
      " [ 98019  11181  74473 ...      0      0      3]\n",
      " ...\n",
      " [216016  46693  52216 ...      2      1      1]\n",
      " [171218   4975 109628 ...      1      3      0]\n",
      " [137727  37810 106391 ...      1      0      0]]\n"
     ]
    }
   ],
   "source": [
    "print(X_test)"
   ]
  },
  {
   "cell_type": "code",
   "execution_count": 21,
   "id": "45dcd7ea",
   "metadata": {},
   "outputs": [
    {
     "name": "stdout",
     "output_type": "stream",
     "text": [
      "[ 63 272  38 ...  82  48  88]\n"
     ]
    }
   ],
   "source": [
    "print(y_train)"
   ]
  },
  {
   "cell_type": "code",
   "execution_count": 22,
   "id": "8aed87f1",
   "metadata": {},
   "outputs": [
    {
     "name": "stdout",
     "output_type": "stream",
     "text": [
      "[ 62 105 260 ... 237  58 237]\n"
     ]
    }
   ],
   "source": [
    "print(y_test)"
   ]
  },
  {
   "cell_type": "markdown",
   "id": "a4bf4b52",
   "metadata": {},
   "source": [
    "# Predicting the rating based on Amount and Total amount spent using Simple Linear Regression "
   ]
  },
  {
   "cell_type": "code",
   "execution_count": 23,
   "id": "18134615",
   "metadata": {},
   "outputs": [],
   "source": [
    "aj=dataset.iloc[:,19]\n",
    "ah=dataset.iloc[:,20]\n",
    "ai=dataset.iloc[:,28]"
   ]
  },
  {
   "cell_type": "code",
   "execution_count": 24,
   "id": "bf209b53",
   "metadata": {},
   "outputs": [],
   "source": [
    "aj=le.fit_transform(aj)\n",
    "ah=le.fit_transform(ah)\n",
    "ai=le.fit_transform(ai)"
   ]
  },
  {
   "cell_type": "code",
   "execution_count": 25,
   "id": "ae3f5a74",
   "metadata": {},
   "outputs": [
    {
     "data": {
      "text/plain": [
       "array([[ 19691,  25109],\n",
       "       [165822,  45717],\n",
       "       [231913, 270123],\n",
       "       ...,\n",
       "       [ 13982,  24087],\n",
       "       [278375, 259146],\n",
       "       [175226, 226970]], dtype=int64)"
      ]
     },
     "execution_count": 25,
     "metadata": {},
     "output_type": "execute_result"
    }
   ],
   "source": [
    "ak=np.array([aj,ah])\n",
    "AK=ak.transpose()\n",
    "AI=ai.transpose()\n",
    "from sklearn.model_selection import train_test_split\n",
    "AK_train,AK_test,AI_train,AI_test=train_test_split(AK,AI,test_size=0.2,random_state=0)\n",
    "AK_train"
   ]
  },
  {
   "cell_type": "code",
   "execution_count": 26,
   "id": "04a218ce",
   "metadata": {},
   "outputs": [
    {
     "data": {
      "text/plain": [
       "array([[153015, 211519],\n",
       "       [194670, 105065],\n",
       "       [273715,  78483],\n",
       "       ...,\n",
       "       [206985, 180535],\n",
       "       [103903,  91190],\n",
       "       [116718, 164377]], dtype=int64)"
      ]
     },
     "execution_count": 26,
     "metadata": {},
     "output_type": "execute_result"
    }
   ],
   "source": [
    "AK_test"
   ]
  },
  {
   "cell_type": "code",
   "execution_count": 27,
   "id": "0ec3d0f9",
   "metadata": {},
   "outputs": [
    {
     "data": {
      "text/plain": [
       "array([0, 2, 3, ..., 3, 1, 3], dtype=int64)"
      ]
     },
     "execution_count": 27,
     "metadata": {},
     "output_type": "execute_result"
    }
   ],
   "source": [
    "AI_train"
   ]
  },
  {
   "cell_type": "code",
   "execution_count": 28,
   "id": "d4c72b69",
   "metadata": {},
   "outputs": [
    {
     "data": {
      "text/plain": [
       "array([2, 3, 2, ..., 0, 3, 2], dtype=int64)"
      ]
     },
     "execution_count": 28,
     "metadata": {},
     "output_type": "execute_result"
    }
   ],
   "source": [
    "AI_test"
   ]
  },
  {
   "cell_type": "code",
   "execution_count": 29,
   "id": "3c754723",
   "metadata": {},
   "outputs": [
    {
     "data": {
      "text/html": [
       "<style>#sk-container-id-1 {color: black;}#sk-container-id-1 pre{padding: 0;}#sk-container-id-1 div.sk-toggleable {background-color: white;}#sk-container-id-1 label.sk-toggleable__label {cursor: pointer;display: block;width: 100%;margin-bottom: 0;padding: 0.3em;box-sizing: border-box;text-align: center;}#sk-container-id-1 label.sk-toggleable__label-arrow:before {content: \"▸\";float: left;margin-right: 0.25em;color: #696969;}#sk-container-id-1 label.sk-toggleable__label-arrow:hover:before {color: black;}#sk-container-id-1 div.sk-estimator:hover label.sk-toggleable__label-arrow:before {color: black;}#sk-container-id-1 div.sk-toggleable__content {max-height: 0;max-width: 0;overflow: hidden;text-align: left;background-color: #f0f8ff;}#sk-container-id-1 div.sk-toggleable__content pre {margin: 0.2em;color: black;border-radius: 0.25em;background-color: #f0f8ff;}#sk-container-id-1 input.sk-toggleable__control:checked~div.sk-toggleable__content {max-height: 200px;max-width: 100%;overflow: auto;}#sk-container-id-1 input.sk-toggleable__control:checked~label.sk-toggleable__label-arrow:before {content: \"▾\";}#sk-container-id-1 div.sk-estimator input.sk-toggleable__control:checked~label.sk-toggleable__label {background-color: #d4ebff;}#sk-container-id-1 div.sk-label input.sk-toggleable__control:checked~label.sk-toggleable__label {background-color: #d4ebff;}#sk-container-id-1 input.sk-hidden--visually {border: 0;clip: rect(1px 1px 1px 1px);clip: rect(1px, 1px, 1px, 1px);height: 1px;margin: -1px;overflow: hidden;padding: 0;position: absolute;width: 1px;}#sk-container-id-1 div.sk-estimator {font-family: monospace;background-color: #f0f8ff;border: 1px dotted black;border-radius: 0.25em;box-sizing: border-box;margin-bottom: 0.5em;}#sk-container-id-1 div.sk-estimator:hover {background-color: #d4ebff;}#sk-container-id-1 div.sk-parallel-item::after {content: \"\";width: 100%;border-bottom: 1px solid gray;flex-grow: 1;}#sk-container-id-1 div.sk-label:hover label.sk-toggleable__label {background-color: #d4ebff;}#sk-container-id-1 div.sk-serial::before {content: \"\";position: absolute;border-left: 1px solid gray;box-sizing: border-box;top: 0;bottom: 0;left: 50%;z-index: 0;}#sk-container-id-1 div.sk-serial {display: flex;flex-direction: column;align-items: center;background-color: white;padding-right: 0.2em;padding-left: 0.2em;position: relative;}#sk-container-id-1 div.sk-item {position: relative;z-index: 1;}#sk-container-id-1 div.sk-parallel {display: flex;align-items: stretch;justify-content: center;background-color: white;position: relative;}#sk-container-id-1 div.sk-item::before, #sk-container-id-1 div.sk-parallel-item::before {content: \"\";position: absolute;border-left: 1px solid gray;box-sizing: border-box;top: 0;bottom: 0;left: 50%;z-index: -1;}#sk-container-id-1 div.sk-parallel-item {display: flex;flex-direction: column;z-index: 1;position: relative;background-color: white;}#sk-container-id-1 div.sk-parallel-item:first-child::after {align-self: flex-end;width: 50%;}#sk-container-id-1 div.sk-parallel-item:last-child::after {align-self: flex-start;width: 50%;}#sk-container-id-1 div.sk-parallel-item:only-child::after {width: 0;}#sk-container-id-1 div.sk-dashed-wrapped {border: 1px dashed gray;margin: 0 0.4em 0.5em 0.4em;box-sizing: border-box;padding-bottom: 0.4em;background-color: white;}#sk-container-id-1 div.sk-label label {font-family: monospace;font-weight: bold;display: inline-block;line-height: 1.2em;}#sk-container-id-1 div.sk-label-container {text-align: center;}#sk-container-id-1 div.sk-container {/* jupyter's `normalize.less` sets `[hidden] { display: none; }` but bootstrap.min.css set `[hidden] { display: none !important; }` so we also need the `!important` here to be able to override the default hidden behavior on the sphinx rendered scikit-learn.org. See: https://github.com/scikit-learn/scikit-learn/issues/21755 */display: inline-block !important;position: relative;}#sk-container-id-1 div.sk-text-repr-fallback {display: none;}</style><div id=\"sk-container-id-1\" class=\"sk-top-container\"><div class=\"sk-text-repr-fallback\"><pre>LinearRegression()</pre><b>In a Jupyter environment, please rerun this cell to show the HTML representation or trust the notebook. <br />On GitHub, the HTML representation is unable to render, please try loading this page with nbviewer.org.</b></div><div class=\"sk-container\" hidden><div class=\"sk-item\"><div class=\"sk-estimator sk-toggleable\"><input class=\"sk-toggleable__control sk-hidden--visually\" id=\"sk-estimator-id-1\" type=\"checkbox\" checked><label for=\"sk-estimator-id-1\" class=\"sk-toggleable__label sk-toggleable__label-arrow\">LinearRegression</label><div class=\"sk-toggleable__content\"><pre>LinearRegression()</pre></div></div></div></div></div>"
      ],
      "text/plain": [
       "LinearRegression()"
      ]
     },
     "execution_count": 29,
     "metadata": {},
     "output_type": "execute_result"
    }
   ],
   "source": [
    "from sklearn.linear_model import LinearRegression\n",
    "regressor=LinearRegression()\n",
    "regressor.fit(AK_train,AI_train)"
   ]
  },
  {
   "cell_type": "code",
   "execution_count": 30,
   "id": "fd084eaa",
   "metadata": {},
   "outputs": [
    {
     "data": {
      "text/plain": [
       "array([2.16008057, 2.1731959 , 2.18053654, ..., 2.16637636, 2.16920773,\n",
       "       2.16264616])"
      ]
     },
     "execution_count": 30,
     "metadata": {},
     "output_type": "execute_result"
    }
   ],
   "source": [
    "y_pred=regressor.predict(AK_test)\n",
    "y_pred"
   ]
  },
  {
   "cell_type": "code",
   "execution_count": null,
   "id": "b39b0986",
   "metadata": {},
   "outputs": [],
   "source": []
  }
 ],
 "metadata": {
  "kernelspec": {
   "display_name": "Python 3 (ipykernel)",
   "language": "python",
   "name": "python3"
  },
  "language_info": {
   "codemirror_mode": {
    "name": "ipython",
    "version": 3
   },
   "file_extension": ".py",
   "mimetype": "text/x-python",
   "name": "python",
   "nbconvert_exporter": "python",
   "pygments_lexer": "ipython3",
   "version": "3.11.5"
  }
 },
 "nbformat": 4,
 "nbformat_minor": 5
}
